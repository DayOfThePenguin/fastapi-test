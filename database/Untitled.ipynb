{
 "cells": [
  {
   "cell_type": "code",
   "execution_count": 1,
   "id": "annoying-dover",
   "metadata": {},
   "outputs": [],
   "source": [
    "import psycopg2\n",
    "from configparser import ConfigParser\n",
    "from pathlib import Path\n",
    "\n",
    "config_path = Path(\"../.env/production.ini\")\n",
    "production_config = ConfigParser()\n",
    "production_config.read_file(open(config_path))\n",
    "URI = production_config[\"postgres\"][\"DATABASE_URL\"]\n",
    "URI +=\"?sslmode=require\""
   ]
  },
  {
   "cell_type": "code",
   "execution_count": 2,
   "id": "golden-replica",
   "metadata": {},
   "outputs": [],
   "source": [
    "# conn = psycopg2.connect(URI, sslmode='require')\n",
    "conn = psycopg2.connect(URI)"
   ]
  },
  {
   "cell_type": "code",
   "execution_count": 3,
   "id": "breathing-exclusive",
   "metadata": {},
   "outputs": [
    {
     "name": "stdout",
     "output_type": "stream",
     "text": [
      "None\n"
     ]
    }
   ],
   "source": [
    "with conn.cursor() as curs:\n",
    "    result = curs.execute(\"SELECT * FROM maps\")\n",
    "    print(result)"
   ]
  }
 ],
 "metadata": {
  "kernelspec": {
   "display_name": "Python 3",
   "language": "python",
   "name": "python3"
  },
  "language_info": {
   "codemirror_mode": {
    "name": "ipython",
    "version": 3
   },
   "file_extension": ".py",
   "mimetype": "text/x-python",
   "name": "python",
   "nbconvert_exporter": "python",
   "pygments_lexer": "ipython3",
   "version": "3.8.8+"
  }
 },
 "nbformat": 4,
 "nbformat_minor": 5
}
