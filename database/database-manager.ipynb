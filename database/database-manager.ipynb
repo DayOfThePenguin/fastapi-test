{
 "cells": [
  {
   "cell_type": "code",
   "execution_count": 2,
   "id": "sensitive-catering",
   "metadata": {},
   "outputs": [
    {
     "data": {
      "text/plain": [
       "'1.4.14'"
      ]
     },
     "execution_count": 2,
     "metadata": {},
     "output_type": "execute_result"
    }
   ],
   "source": [
    "sqlalchemy.__version__"
   ]
  },
  {
   "cell_type": "code",
   "execution_count": 2,
   "id": "furnished-fight",
   "metadata": {},
   "outputs": [
    {
     "name": "stdout",
     "output_type": "stream",
     "text": [
      "/home/user/Developer/active/r3think/database\n"
     ]
    }
   ],
   "source": [
    "import json\n",
    "import os\n",
    "\n",
    "from pathlib import Path\n",
    "\n",
    "import sqlalchemy\n",
    "from sqlalchemy.orm.exc import NoResultFound\n",
    "from configparser import ConfigParser\n",
    "\n",
    "### models.py ###\n",
    "\n",
    "from sqlalchemy.ext.declarative import declarative_base\n",
    "from sqlalchemy import Column, Text, String\n",
    "from sqlalchemy.dialects.postgresql import ARRAY, JSON\n",
    "from sqlalchemy.types import SmallInteger\n",
    "\n",
    "print(Path.cwd())\n",
    "config_path = Path(\"../.env/production.ini\")\n",
    "production_config = ConfigParser()\n",
    "production_config.read_file(open(config_path))\n",
    "URI = production_config[\"postgres\"][\"DATABASE_URL\"]\n",
    "# uri = os.environ[\"DATABASE_URL\"]\n",
    "if URI.startswith(\"postgres://\"):\n",
    "    URI = uri.replace(\"postgres://\", \"postgresql://\", 1)\n",
    "\n",
    "Base = declarative_base()\n",
    "\n",
    "class WikiMap(Base):\n",
    "    __tablename__ = 'maps'\n",
    "    title = Column(String(200), primary_key=True)\n",
    "    json_map = Column(JSON())\n",
    "    levels = Column(SmallInteger())\n",
    "    pages_per_level = Column(SmallInteger())\n",
    "    \n",
    "    def __repr__(self):\n",
    "        msg = \"<WikiMap: (\\n\\t\"\n",
    "        msg += \"title='{}',\\n\\t\".format(self.title)\n",
    "        msg += \"json_map - not displayed,\\n\\t\"\n",
    "        msg += \"levels={},\\n\\t\".format(self.levels)\n",
    "        msg += \"pages_per_level={}\\n\".format(self.pages_per_level)\n",
    "        msg += \")>\"\n",
    "        return msg"
   ]
  },
  {
   "cell_type": "code",
   "execution_count": 1,
   "id": "collect-billy",
   "metadata": {},
   "outputs": [],
   "source": [
    "json_dict = {\"nodes\": [{\"id\": \"Quantum Mechanics\", \"group\": 0}, {\"id\": \"A. Douglas Stone\", \"group\": 1}, {\"id\": \"Abdus Salam\", \"group\": 1}, {\"id\": \"Abraham Pais\", \"group\": 1}, {\"id\": \"Absolute zero\", \"group\": 1}, {\"id\": \"Accuracy\", \"group\": 1}, {\"id\": \"Acoustics\", \"group\": 1}, {\"id\": \"Acta Physica Polonica B\", \"group\": 1}, {\"id\": \"Action at a distance\", \"group\": 1}, {\"id\": \"Action principle\", \"group\": 1}, {\"id\": \"Adrian Kent\", \"group\": 1}, {\"id\": \"Alfred P. Sloan Fellowship\", \"group\": 1}, {\"id\": \"American Physical Society\", \"group\": 1}, {\"id\": \"BNF (identifier)\", \"group\": 1}, {\"id\": \"GND (identifier)\", \"group\": 1}, {\"id\": \"Harvard University\", \"group\": 1}, {\"id\": \"ISNI (identifier)\", \"group\": 1}, {\"id\": \"LCCN (identifier)\", \"group\": 1}, {\"id\": \"Massachusetts Institute of Technology\", \"group\": 1}, {\"id\": \"NTA (identifier)\", \"group\": 1}, {\"id\": \"Oxford University\", \"group\": 1}, {\"id\": \"'Subtle is the Lord ...' : The Science and the Life of Albert Einstein\", \"group\": 1}, {\"id\": \"Abraham Pais Prize for History of Physics\", \"group\": 1}, {\"id\": \"Albert Einstein\", \"group\": 1}, {\"id\": \"American Institute of Physics\", \"group\": 1}, {\"id\": \"American Journal of Physics\", \"group\": 1}, {\"id\": \"Amsterdam\", \"group\": 1}, {\"id\": \"Andrew Gemant Award\", \"group\": 1}, {\"id\": \"Ashkenazi\", \"group\": 1}, {\"id\": \"BIBSYS (identifier)\", \"group\": 1}, {\"id\": \"Absolute Zero (disambiguation)\", \"group\": 1}, {\"id\": \"Absolute hot\", \"group\": 1}, {\"id\": \"Adiabat\", \"group\": 1}, {\"id\": \"Adiabatic process\", \"group\": 1}, {\"id\": \"Antoine Lavoisier\", \"group\": 1}, {\"id\": \"ArXiv (identifier)\", \"group\": 1}, {\"id\": \"Asymptotically\", \"group\": 1}, {\"id\": \"Atmospheric refraction\", \"group\": 1}, {\"id\": \"Bibcode (identifier)\", \"group\": 1}, {\"id\": \"110 film\", \"group\": 1}, {\"id\": \"126 film\", \"group\": 1}, {\"id\": \"135 film\", \"group\": 1}, {\"id\": \"A440 (pitch standard)\", \"group\": 1}, {\"id\": \"ALGOL 60\", \"group\": 1}, {\"id\": \"ANSI C\", \"group\": 1}, {\"id\": \"ANSI escape code\", \"group\": 1}, {\"id\": \"ASMO 449\", \"group\": 1}, {\"id\": \"Accepted and experimental value\", \"group\": 1}, {\"id\": \"Accuracy and precision\", \"group\": 1}, {\"id\": \"Academic publisher\", \"group\": 1}, {\"id\": \"Applied physics\", \"group\": 1}, {\"id\": \"Astrophysics\", \"group\": 1}, {\"id\": \"Atomic physics\", \"group\": 1}, {\"id\": \"Biophysics\", \"group\": 1}, {\"id\": \"Condensed matter\", \"group\": 1}, {\"id\": \"Condensed matter physics\", \"group\": 1}, {\"id\": \"Editor-in-chief\", \"group\": 1}, {\"id\": \"Editors-in-chief\", \"group\": 1}, {\"id\": \"ISO 4\", \"group\": 1}, {\"id\": \"A Treatise on Electricity and Magnetism\", \"group\": 1}, {\"id\": \"Action (physics)\", \"group\": 1}, {\"id\": \"Action at a distance (computer programming)\", \"group\": 1}, {\"id\": \"Aether theories\", \"group\": 1}, {\"id\": \"Ampere's force law\", \"group\": 1}, {\"id\": \"Andrew Janiak\", \"group\": 1}, {\"id\": \"Atomism\", \"group\": 1}, {\"id\": \"Bell test experiments\", \"group\": 1}, {\"id\": \"Acceleration\", \"group\": 1}, {\"id\": \"Alexis Clairaut\", \"group\": 1}, {\"id\": \"Analytical dynamics\", \"group\": 1}, {\"id\": \"Analytical mechanics\", \"group\": 1}, {\"id\": \"Ancient Greece\", \"group\": 1}, {\"id\": \"Angle of incidence (optics)\", \"group\": 1}, {\"id\": \"Angle of reflection\", \"group\": 1}, {\"id\": \"Angular acceleration\", \"group\": 1}, {\"id\": \"Angular displacement\", \"group\": 1}, {\"id\": \"Bit commitment\", \"group\": 1}, {\"id\": \"Centre for Quantum Information and Foundations\", \"group\": 1}, {\"id\": \"Centre for the Study of Existential Risk\", \"group\": 1}, {\"id\": \"CiteSeerX (identifier)\", \"group\": 1}, {\"id\": \"Communications in Mathematical Physics\", \"group\": 1}, {\"id\": \"Conformal field theory\", \"group\": 1}, {\"id\": \"Consistent histories interpretation\", \"group\": 1}], \"links\": [{\"source\": \"Quantum Mechanics\", \"target\": \"A. Douglas Stone\", \"value\": 1}, {\"source\": \"Quantum Mechanics\", \"target\": \"Abdus Salam\", \"value\": 1}, {\"source\": \"Quantum Mechanics\", \"target\": \"Abraham Pais\", \"value\": 1}, {\"source\": \"Quantum Mechanics\", \"target\": \"Absolute zero\", \"value\": 1}, {\"source\": \"Quantum Mechanics\", \"target\": \"Accuracy\", \"value\": 1}, {\"source\": \"Quantum Mechanics\", \"target\": \"Acoustics\", \"value\": 1}, {\"source\": \"Quantum Mechanics\", \"target\": \"Acta Physica Polonica B\", \"value\": 1}, {\"source\": \"Quantum Mechanics\", \"target\": \"Action at a distance\", \"value\": 1}, {\"source\": \"Quantum Mechanics\", \"target\": \"Action principle\", \"value\": 1}, {\"source\": \"Quantum Mechanics\", \"target\": \"Adrian Kent\", \"value\": 1}, {\"source\": \"A. Douglas Stone\", \"target\": \"Alfred P. Sloan Fellowship\", \"value\": 1}, {\"source\": \"A. Douglas Stone\", \"target\": \"American Physical Society\", \"value\": 1}, {\"source\": \"A. Douglas Stone\", \"target\": \"BNF (identifier)\", \"value\": 1}, {\"source\": \"A. Douglas Stone\", \"target\": \"GND (identifier)\", \"value\": 1}, {\"source\": \"A. Douglas Stone\", \"target\": \"Harvard University\", \"value\": 1}, {\"source\": \"A. Douglas Stone\", \"target\": \"ISNI (identifier)\", \"value\": 1}, {\"source\": \"A. Douglas Stone\", \"target\": \"LCCN (identifier)\", \"value\": 1}, {\"source\": \"A. Douglas Stone\", \"target\": \"Massachusetts Institute of Technology\", \"value\": 1}, {\"source\": \"A. Douglas Stone\", \"target\": \"NTA (identifier)\", \"value\": 1}, {\"source\": \"A. Douglas Stone\", \"target\": \"Oxford University\", \"value\": 1}, {\"source\": \"Abraham Pais\", \"target\": \"'Subtle is the Lord ...' : The Science and the Life of Albert Einstein\", \"value\": 1}, {\"source\": \"Abraham Pais\", \"target\": \"Abraham Pais Prize for History of Physics\", \"value\": 1}, {\"source\": \"Abraham Pais\", \"target\": \"Albert Einstein\", \"value\": 1}, {\"source\": \"Abraham Pais\", \"target\": \"American Institute of Physics\", \"value\": 1}, {\"source\": \"Abraham Pais\", \"target\": \"American Journal of Physics\", \"value\": 1}, {\"source\": \"Abraham Pais\", \"target\": \"American Physical Society\", \"value\": 1}, {\"source\": \"Abraham Pais\", \"target\": \"Amsterdam\", \"value\": 1}, {\"source\": \"Abraham Pais\", \"target\": \"Andrew Gemant Award\", \"value\": 1}, {\"source\": \"Abraham Pais\", \"target\": \"Ashkenazi\", \"value\": 1}, {\"source\": \"Abraham Pais\", \"target\": \"BIBSYS (identifier)\", \"value\": 1}, {\"source\": \"Absolute zero\", \"target\": \"Absolute Zero (disambiguation)\", \"value\": 1}, {\"source\": \"Absolute zero\", \"target\": \"Absolute hot\", \"value\": 1}, {\"source\": \"Absolute zero\", \"target\": \"Adiabat\", \"value\": 1}, {\"source\": \"Absolute zero\", \"target\": \"Adiabatic process\", \"value\": 1}, {\"source\": \"Absolute zero\", \"target\": \"Albert Einstein\", \"value\": 1}, {\"source\": \"Absolute zero\", \"target\": \"Antoine Lavoisier\", \"value\": 1}, {\"source\": \"Absolute zero\", \"target\": \"ArXiv (identifier)\", \"value\": 1}, {\"source\": \"Absolute zero\", \"target\": \"Asymptotically\", \"value\": 1}, {\"source\": \"Absolute zero\", \"target\": \"Atmospheric refraction\", \"value\": 1}, {\"source\": \"Absolute zero\", \"target\": \"Bibcode (identifier)\", \"value\": 1}, {\"source\": \"Accuracy\", \"target\": \"110 film\", \"value\": 1}, {\"source\": \"Accuracy\", \"target\": \"126 film\", \"value\": 1}, {\"source\": \"Accuracy\", \"target\": \"135 film\", \"value\": 1}, {\"source\": \"Accuracy\", \"target\": \"A440 (pitch standard)\", \"value\": 1}, {\"source\": \"Accuracy\", \"target\": \"ALGOL 60\", \"value\": 1}, {\"source\": \"Accuracy\", \"target\": \"ANSI C\", \"value\": 1}, {\"source\": \"Accuracy\", \"target\": \"ANSI escape code\", \"value\": 1}, {\"source\": \"Accuracy\", \"target\": \"ASMO 449\", \"value\": 1}, {\"source\": \"Accuracy\", \"target\": \"Accepted and experimental value\", \"value\": 1}, {\"source\": \"Accuracy\", \"target\": \"Accuracy and precision\", \"value\": 1}, {\"source\": \"Acta Physica Polonica B\", \"target\": \"Academic publisher\", \"value\": 1}, {\"source\": \"Acta Physica Polonica B\", \"target\": \"Applied physics\", \"value\": 1}, {\"source\": \"Acta Physica Polonica B\", \"target\": \"Astrophysics\", \"value\": 1}, {\"source\": \"Acta Physica Polonica B\", \"target\": \"Atomic physics\", \"value\": 1}, {\"source\": \"Acta Physica Polonica B\", \"target\": \"Biophysics\", \"value\": 1}, {\"source\": \"Acta Physica Polonica B\", \"target\": \"Condensed matter\", \"value\": 1}, {\"source\": \"Acta Physica Polonica B\", \"target\": \"Condensed matter physics\", \"value\": 1}, {\"source\": \"Acta Physica Polonica B\", \"target\": \"Editor-in-chief\", \"value\": 1}, {\"source\": \"Acta Physica Polonica B\", \"target\": \"Editors-in-chief\", \"value\": 1}, {\"source\": \"Acta Physica Polonica B\", \"target\": \"ISO 4\", \"value\": 1}, {\"source\": \"Action at a distance\", \"target\": \"A Treatise on Electricity and Magnetism\", \"value\": 1}, {\"source\": \"Action at a distance\", \"target\": \"Action (physics)\", \"value\": 1}, {\"source\": \"Action at a distance\", \"target\": \"Action at a distance (computer programming)\", \"value\": 1}, {\"source\": \"Action at a distance\", \"target\": \"Aether theories\", \"value\": 1}, {\"source\": \"Action at a distance\", \"target\": \"Albert Einstein\", \"value\": 1}, {\"source\": \"Action at a distance\", \"target\": \"Ampere's force law\", \"value\": 1}, {\"source\": \"Action at a distance\", \"target\": \"Andrew Janiak\", \"value\": 1}, {\"source\": \"Action at a distance\", \"target\": \"ArXiv (identifier)\", \"value\": 1}, {\"source\": \"Action at a distance\", \"target\": \"Atomism\", \"value\": 1}, {\"source\": \"Action at a distance\", \"target\": \"Bell test experiments\", \"value\": 1}, {\"source\": \"Action principle\", \"target\": \"Acceleration\", \"value\": 1}, {\"source\": \"Action principle\", \"target\": \"Action (physics)\", \"value\": 1}, {\"source\": \"Action principle\", \"target\": \"Alexis Clairaut\", \"value\": 1}, {\"source\": \"Action principle\", \"target\": \"Analytical dynamics\", \"value\": 1}, {\"source\": \"Action principle\", \"target\": \"Analytical mechanics\", \"value\": 1}, {\"source\": \"Action principle\", \"target\": \"Ancient Greece\", \"value\": 1}, {\"source\": \"Action principle\", \"target\": \"Angle of incidence (optics)\", \"value\": 1}, {\"source\": \"Action principle\", \"target\": \"Angle of reflection\", \"value\": 1}, {\"source\": \"Action principle\", \"target\": \"Angular acceleration\", \"value\": 1}, {\"source\": \"Action principle\", \"target\": \"Angular displacement\", \"value\": 1}, {\"source\": \"Adrian Kent\", \"target\": \"ArXiv (identifier)\", \"value\": 1}, {\"source\": \"Adrian Kent\", \"target\": \"Bell test experiments\", \"value\": 1}, {\"source\": \"Adrian Kent\", \"target\": \"Bibcode (identifier)\", \"value\": 1}, {\"source\": \"Adrian Kent\", \"target\": \"Bit commitment\", \"value\": 1}, {\"source\": \"Adrian Kent\", \"target\": \"Centre for Quantum Information and Foundations\", \"value\": 1}, {\"source\": \"Adrian Kent\", \"target\": \"Centre for the Study of Existential Risk\", \"value\": 1}, {\"source\": \"Adrian Kent\", \"target\": \"CiteSeerX (identifier)\", \"value\": 1}, {\"source\": \"Adrian Kent\", \"target\": \"Communications in Mathematical Physics\", \"value\": 1}, {\"source\": \"Adrian Kent\", \"target\": \"Conformal field theory\", \"value\": 1}, {\"source\": \"Adrian Kent\", \"target\": \"Consistent histories interpretation\", \"value\": 1}]}"
   ]
  },
  {
   "cell_type": "code",
   "execution_count": 3,
   "id": "automatic-cooperation",
   "metadata": {},
   "outputs": [],
   "source": [
    "## crud.py ##\n",
    "\n",
    "from sqlalchemy import create_engine\n",
    "from sqlalchemy.orm import sessionmaker\n",
    "\n",
    "def delete_recreate_database():\n",
    "    Base.metadata.drop_all(engine)\n",
    "    Base.metadata.create_all(engine)\n",
    "    \n",
    "def create_database():\n",
    "    Base.metadata.create_all(engine)\n",
    "    \n",
    "def create_dummy_entry():\n",
    "    dummy_map = WikiMap(\n",
    "        title = \"Quantum Mechanics\",\n",
    "        json_map = json_dict,\n",
    "        levels = 5,\n",
    "        pages_per_level = 4,\n",
    "    )\n",
    "    s = Session()\n",
    "    s.add(dummy_map)\n",
    "    s.commit()\n",
    "    \n",
    "\n",
    "engine = create_engine(URI)\n",
    "Session = sessionmaker(bind=engine)"
   ]
  },
  {
   "cell_type": "code",
   "execution_count": 4,
   "id": "covered-millennium",
   "metadata": {},
   "outputs": [],
   "source": [
    "s = Session()"
   ]
  },
  {
   "cell_type": "code",
   "execution_count": 8,
   "id": "continued-article",
   "metadata": {},
   "outputs": [],
   "source": [
    "create_database()"
   ]
  },
  {
   "cell_type": "code",
   "execution_count": 4,
   "id": "intensive-rwanda",
   "metadata": {},
   "outputs": [],
   "source": [
    "create_dummy_entry()"
   ]
  },
  {
   "cell_type": "code",
   "execution_count": 5,
   "id": "criminal-repeat",
   "metadata": {},
   "outputs": [
    {
     "name": "stdout",
     "output_type": "stream",
     "text": [
      "new\n"
     ]
    }
   ],
   "source": [
    "if s.query(Page).filter_by(title=\"West Bretton\").first() is None:\n",
    "    print(\"new\")\n",
    "else:\n",
    "    print(\"duplicate\")"
   ]
  },
  {
   "cell_type": "code",
   "execution_count": 6,
   "id": "chemical-option",
   "metadata": {},
   "outputs": [],
   "source": [
    "s.query(Page).first()"
   ]
  },
  {
   "cell_type": "code",
   "execution_count": 19,
   "id": "classified-anger",
   "metadata": {},
   "outputs": [],
   "source": [
    "s.query(Page).filter(Page.title == \"Vagococcus silage\").first()"
   ]
  },
  {
   "cell_type": "code",
   "execution_count": null,
   "id": "veterinary-consensus",
   "metadata": {},
   "outputs": [],
   "source": [
    "# filter BY\n",
    "s.query(Page).filter_by(title=\"Achilles\").first()"
   ]
  },
  {
   "cell_type": "code",
   "execution_count": 8,
   "id": "tired-neighbor",
   "metadata": {},
   "outputs": [
    {
     "data": {
      "text/plain": [
       "<Page: (\n",
       "\t title='Quantum Mechanics',\n",
       "\t headings=['Lead', 'Physics', 'Science'],\n",
       "\t sections=[\"Lead's content\", \"Science's content\", \"Physics's content\"],\n",
       "\t links=['Albert Einstein', 'String Theory', 'Physics Theories']\n",
       ")>"
      ]
     },
     "execution_count": 8,
     "metadata": {},
     "output_type": "execute_result"
    }
   ],
   "source": [
    "# filter\n",
    "s.query(Page).filter(Page.title==\"Quantum Mechanics\").first()"
   ]
  },
  {
   "cell_type": "code",
   "execution_count": null,
   "id": "peripheral-hopkins",
   "metadata": {},
   "outputs": [],
   "source": [
    "s.query(Page).limit(2).all()"
   ]
  },
  {
   "cell_type": "code",
   "execution_count": 10,
   "id": "small-patrick",
   "metadata": {},
   "outputs": [],
   "source": [
    "s.close()"
   ]
  }
 ],
 "metadata": {
  "kernelspec": {
   "display_name": "Python 3",
   "language": "python",
   "name": "python3"
  },
  "language_info": {
   "codemirror_mode": {
    "name": "ipython",
    "version": 3
   },
   "file_extension": ".py",
   "mimetype": "text/x-python",
   "name": "python",
   "nbconvert_exporter": "python",
   "pygments_lexer": "ipython3",
   "version": "3.8.8+"
  }
 },
 "nbformat": 4,
 "nbformat_minor": 5
}
